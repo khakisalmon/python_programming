{
  "nbformat": 4,
  "nbformat_minor": 0,
  "metadata": {
    "colab": {
      "provenance": [],
      "authorship_tag": "ABX9TyNVkC+/tn4DF2WfRzKVpYYC",
      "include_colab_link": true
    },
    "kernelspec": {
      "name": "python3",
      "display_name": "Python 3"
    },
    "language_info": {
      "name": "python"
    }
  },
  "cells": [
    {
      "cell_type": "markdown",
      "metadata": {
        "id": "view-in-github",
        "colab_type": "text"
      },
      "source": [
        "<a href=\"https://colab.research.google.com/github/khakisalmon/python_programming/blob/main/Exercise_1_(Types)_Your_First_Program_ipynb%EC%9D%98_%EC%82%AC%EB%B3%B8.ipynb\" target=\"_parent\"><img src=\"https://colab.research.google.com/assets/colab-badge.svg\" alt=\"Open In Colab\"/></a>"
      ]
    },
    {
      "cell_type": "code",
      "execution_count": 9,
      "metadata": {
        "colab": {
          "base_uri": "https://localhost:8080/"
        },
        "id": "17CVhp9-HvtE",
        "outputId": "57208121-a738-4b8d-cc84-0b5c1fedadb6"
      },
      "outputs": [
        {
          "output_type": "stream",
          "name": "stdout",
          "text": [
            "Hello, Python!\n",
            "Hello, world!\n",
            "제 이름은 김현중입니다\n",
            "3.9.16 (main, Dec  7 2022, 01:11:51) \n",
            "[GCC 9.4.0]\n",
            "This will be printed\n",
            "This will NOT be printed\n",
            "Hello, world!\n"
          ]
        }
      ],
      "source": [
        "#학번 : 2023240666 #이름 : 김현중\n",
        "\n",
        "import sys\n",
        "print('Hello, Python!')\n",
        "print(\"Hello, world!\") #파이썬 첫걸음\n",
        "print(\"제 이름은 김현중입니다\")\n",
        "#frint(\"Hello, Python!\") #print\n",
        "print(sys.version)\n",
        "print(\"This will be printed\")\n",
        "print(\"This will NOT be printed\")\n",
        "print(\"Hello, world!\")\n",
        "\n",
        "\n"
      ]
    }
  ]
}