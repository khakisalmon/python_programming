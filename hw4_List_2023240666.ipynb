{
  "nbformat": 4,
  "nbformat_minor": 0,
  "metadata": {
    "kernelspec": {
      "display_name": "Python 3",
      "language": "python",
      "name": "python3"
    },
    "language_info": {
      "codemirror_mode": {
        "name": "ipython",
        "version": 3
      },
      "file_extension": ".py",
      "mimetype": "text/x-python",
      "name": "python",
      "nbconvert_exporter": "python",
      "pygments_lexer": "ipython3",
      "version": "3.6.8"
    },
    "colab": {
      "provenance": [],
      "include_colab_link": true
    }
  },
  "cells": [
    {
      "cell_type": "markdown",
      "metadata": {
        "id": "view-in-github",
        "colab_type": "text"
      },
      "source": [
        "<a href=\"https://colab.research.google.com/github/khakisalmon/python_programming/blob/main/hw4_List_2023240666.ipynb\" target=\"_parent\"><img src=\"https://colab.research.google.com/assets/colab-badge.svg\" alt=\"Open In Colab\"/></a>"
      ]
    },
    {
      "cell_type": "markdown",
      "metadata": {
        "id": "-kmv3hPY6OQp"
      },
      "source": [
        "<h1>Lists in Python</h1>"
      ]
    },
    {
      "cell_type": "code",
      "metadata": {
        "id": "UpEdrGZX6OQx",
        "colab": {
          "base_uri": "https://localhost:8080/"
        },
        "outputId": "3984c9f5-d88f-4761-9b10-a99eb4841214"
      },
      "source": [
        "# Create a list\n",
        "\n",
        "L = [\"Michael Jackson\", 10.1, 1982] #[] : indexing\n",
        "L"
      ],
      "execution_count": 1,
      "outputs": [
        {
          "output_type": "execute_result",
          "data": {
            "text/plain": [
              "['Michael Jackson', 10.1, 1982]"
            ]
          },
          "metadata": {},
          "execution_count": 1
        }
      ]
    },
    {
      "cell_type": "code",
      "source": [
        "type(L[2])"
      ],
      "metadata": {
        "colab": {
          "base_uri": "https://localhost:8080/"
        },
        "id": "BmrFlijOm_xu",
        "outputId": "18e28cc4-4743-4882-a165-72b5aff23a18"
      },
      "execution_count": 2,
      "outputs": [
        {
          "output_type": "execute_result",
          "data": {
            "text/plain": [
              "int"
            ]
          },
          "metadata": {},
          "execution_count": 2
        }
      ]
    },
    {
      "cell_type": "code",
      "metadata": {
        "id": "HKKAd7YR6OQ2",
        "colab": {
          "base_uri": "https://localhost:8080/"
        },
        "outputId": "12fe0929-17c0-43b6-ff6b-eafa65b6ddc1"
      },
      "source": [
        "# Print the elements on each index\n",
        "\n",
        "print('the same element using negative and positive indexing:\\n Postive:',L[0],\n",
        "'\\n Negative:' , L[-3]  )\n",
        "print('the same element using negative and positive indexing:\\n Postive:',L[1],\n",
        "'\\n Negative:' , L[-2]  )\n",
        "print('the same element using negative and positive indexing:\\n Postive:',L[2],\n",
        "'\\n Negative:' , L[-1]  )"
      ],
      "execution_count": null,
      "outputs": [
        {
          "output_type": "stream",
          "name": "stdout",
          "text": [
            "the same element using negative and positive indexing:\n",
            " Postive: Michael Jackson \n",
            " Negative: Michael Jackson\n",
            "the same element using negative and positive indexing:\n",
            " Postive: 10.1 \n",
            " Negative: 10.1\n",
            "the same element using negative and positive indexing:\n",
            " Postive: 1982 \n",
            " Negative: 1982\n"
          ]
        }
      ]
    },
    {
      "cell_type": "markdown",
      "metadata": {
        "id": "hfwadSBF6OQ5"
      },
      "source": [
        "<h3 id=\"content\">List Content</h3>"
      ]
    },
    {
      "cell_type": "code",
      "metadata": {
        "id": "IOk_DmIV6OQ6",
        "colab": {
          "base_uri": "https://localhost:8080/"
        },
        "outputId": "59a42e42-e818-428e-d5c3-fe0960f22572"
      },
      "source": [
        "#Differnece between List and Tuple is List is mutable (changeable) but not tuple\n",
        "\n",
        "L1 = [\"Michael Jackson\", 10.1, 1982, [1, 2], (\"A\", 1)]\n",
        "print(\"before L1[0] changed\", L1)\n",
        "L1[0] = \"Janet\"\n",
        "print(\"after L1[0] changed\", L1)\n",
        "\n",
        "\n"
      ],
      "execution_count": 3,
      "outputs": [
        {
          "output_type": "stream",
          "name": "stdout",
          "text": [
            "before L1[0] changed ['Michael Jackson', 10.1, 1982, [1, 2], ('A', 1)]\n",
            "after L1[0] changed ['Janet', 10.1, 1982, [1, 2], ('A', 1)]\n"
          ]
        }
      ]
    },
    {
      "cell_type": "code",
      "metadata": {
        "id": "85zo9GNA7vwi",
        "colab": {
          "base_uri": "https://localhost:8080/",
          "height": 209
        },
        "outputId": "06f590ad-fc2e-4c01-9e41-bcbcad15acbe"
      },
      "source": [
        "Tuple1=(\"Michael Jackson\", 10.1, 1982)\n",
        "Tuple1\n",
        "Tuple1[0]=\"Janet\" #tuple은 데이터 변경이 안되어 에러가 난다"
      ],
      "execution_count": 9,
      "outputs": [
        {
          "output_type": "error",
          "ename": "TypeError",
          "evalue": "ignored",
          "traceback": [
            "\u001b[0;31m---------------------------------------------------------------------------\u001b[0m",
            "\u001b[0;31mTypeError\u001b[0m                                 Traceback (most recent call last)",
            "\u001b[0;32m<ipython-input-9-60a6570d6905>\u001b[0m in \u001b[0;36m<cell line: 3>\u001b[0;34m()\u001b[0m\n\u001b[1;32m      1\u001b[0m \u001b[0mTuple1\u001b[0m\u001b[0;34m=\u001b[0m\u001b[0;34m(\u001b[0m\u001b[0;34m\"Michael Jackson\"\u001b[0m\u001b[0;34m,\u001b[0m \u001b[0;36m10.1\u001b[0m\u001b[0;34m,\u001b[0m \u001b[0;36m1982\u001b[0m\u001b[0;34m)\u001b[0m\u001b[0;34m\u001b[0m\u001b[0;34m\u001b[0m\u001b[0m\n\u001b[1;32m      2\u001b[0m \u001b[0mTuple1\u001b[0m\u001b[0;34m\u001b[0m\u001b[0;34m\u001b[0m\u001b[0m\n\u001b[0;32m----> 3\u001b[0;31m \u001b[0mTuple1\u001b[0m\u001b[0;34m[\u001b[0m\u001b[0;36m0\u001b[0m\u001b[0;34m]\u001b[0m\u001b[0;34m=\u001b[0m\u001b[0;34m\"Janet\"\u001b[0m \u001b[0;31m#tuple은 데이터 변경이 안되어 에러가 난다\u001b[0m\u001b[0;34m\u001b[0m\u001b[0;34m\u001b[0m\u001b[0m\n\u001b[0m",
            "\u001b[0;31mTypeError\u001b[0m: 'tuple' object does not support item assignment"
          ]
        }
      ]
    },
    {
      "cell_type": "code",
      "metadata": {
        "id": "P1ngnqP66OQ-",
        "colab": {
          "base_uri": "https://localhost:8080/"
        },
        "outputId": "4b0976dd-cb9c-4663-e3fd-0afb4e178677"
      },
      "source": [
        "# Sample List\n",
        "\n",
        "L = [\"Michael Jackson\", 10.1,1982,\"MJ\",1]\n",
        "L"
      ],
      "execution_count": 5,
      "outputs": [
        {
          "output_type": "execute_result",
          "data": {
            "text/plain": [
              "['Michael Jackson', 10.1, 1982, 'MJ', 1]"
            ]
          },
          "metadata": {},
          "execution_count": 5
        }
      ]
    },
    {
      "cell_type": "code",
      "metadata": {
        "id": "0FqfMvDr6ORB",
        "colab": {
          "base_uri": "https://localhost:8080/"
        },
        "outputId": "72a6083e-8c2b-48fd-aee3-261579ac35e4"
      },
      "source": [
        "# List slicing\n",
        "\n",
        "L[3:5]"
      ],
      "execution_count": 6,
      "outputs": [
        {
          "output_type": "execute_result",
          "data": {
            "text/plain": [
              "['MJ', 1]"
            ]
          },
          "metadata": {},
          "execution_count": 6
        }
      ]
    },
    {
      "cell_type": "code",
      "metadata": {
        "id": "o-6mD3rB6ORF",
        "colab": {
          "base_uri": "https://localhost:8080/"
        },
        "outputId": "ae7cca41-29ed-427c-8bf8-2550ff5be82f"
      },
      "source": [
        "# Use extend to add elements to list\n",
        "\n",
        "L = [ \"Michael Jackson\", 10.2]\n",
        "L.extend(['pop', 10]) #['pop', 10] --> list \n",
        "L[3]\n"
      ],
      "execution_count": 14,
      "outputs": [
        {
          "output_type": "execute_result",
          "data": {
            "text/plain": [
              "[]"
            ]
          },
          "metadata": {},
          "execution_count": 14
        }
      ]
    },
    {
      "cell_type": "code",
      "metadata": {
        "id": "ylRoJQ7A6ORI",
        "colab": {
          "base_uri": "https://localhost:8080/",
          "height": 35
        },
        "outputId": "f94f8ed5-4985-4cc8-89a5-7b81b31fbbf5"
      },
      "source": [
        "# Use append to add elements to list\n",
        "\n",
        "L = [ \"Michael Jackson\", 10.2]\n",
        "L.append(['pop', 10]) #['pop', 10]이 하나의 구성요소로 들어간다. 2안에 pop,10이 들어가 있다\n",
        "L[2][0]\n"
      ],
      "execution_count": 15,
      "outputs": [
        {
          "output_type": "execute_result",
          "data": {
            "text/plain": [
              "'pop'"
            ],
            "application/vnd.google.colaboratory.intrinsic+json": {
              "type": "string"
            }
          },
          "metadata": {},
          "execution_count": 15
        }
      ]
    },
    {
      "cell_type": "code",
      "metadata": {
        "id": "-bY57Iyv6ORW",
        "colab": {
          "base_uri": "https://localhost:8080/"
        },
        "outputId": "7726e7c6-d9df-455e-fb29-f800da74062c"
      },
      "source": [
        "# Delete the element based on the index\n",
        "A = ['Michael Jackson', 10.2, 'pop', 10, ['a', 'b']]\n",
        "print('Before change:', A)\n",
        "del(A[0])\n",
        "print('After change:', A)"
      ],
      "execution_count": 16,
      "outputs": [
        {
          "output_type": "stream",
          "name": "stdout",
          "text": [
            "Before change: ['Michael Jackson', 10.2, 'pop', 10, ['a', 'b']]\n",
            "After change: [10.2, 'pop', 10, ['a', 'b']]\n"
          ]
        }
      ]
    },
    {
      "cell_type": "code",
      "source": [
        "A = ['Michael Jackson', 10.2, 'pop', 10]\n",
        "A"
      ],
      "metadata": {
        "colab": {
          "base_uri": "https://localhost:8080/"
        },
        "id": "ScXjo95Pp0nc",
        "outputId": "df4c2dcb-636d-4ed3-854d-a28edbfc588d"
      },
      "execution_count": 19,
      "outputs": [
        {
          "output_type": "execute_result",
          "data": {
            "text/plain": [
              "['Michael Jackson', 10.2, 'pop', 10]"
            ]
          },
          "metadata": {},
          "execution_count": 19
        }
      ]
    },
    {
      "cell_type": "code",
      "metadata": {
        "id": "SiyLlFUi6ORZ",
        "colab": {
          "base_uri": "https://localhost:8080/",
          "height": 54
        },
        "outputId": "bf4b381a-cff3-4cdf-c132-3fd26887055b"
      },
      "source": [
        "# Split the string, default is by space\n",
        "\n",
        "what='hard rock'.split() #문자열을 스페이스 기준으로 쪼갠다\n",
        "print(what)\n",
        "type(what)\n",
        "what[1]"
      ],
      "execution_count": 24,
      "outputs": [
        {
          "output_type": "stream",
          "name": "stdout",
          "text": [
            "['hard', 'rock']\n"
          ]
        },
        {
          "output_type": "execute_result",
          "data": {
            "text/plain": [
              "'rock'"
            ],
            "application/vnd.google.colaboratory.intrinsic+json": {
              "type": "string"
            }
          },
          "metadata": {},
          "execution_count": 24
        }
      ]
    },
    {
      "cell_type": "code",
      "metadata": {
        "id": "7Js5Gh536ORd",
        "colab": {
          "base_uri": "https://localhost:8080/",
          "height": 35
        },
        "outputId": "6cbf37d2-16d0-4da1-f231-bcc5939ba25e"
      },
      "source": [
        "from re import split\n",
        "# Split the string by comma\n",
        "\n",
        "Split_string_comma='A,B,C,D'.split(',') #, 기준으로 데이터 분할\n",
        "Split_string_comma\n",
        "type(Split_string_comma)\n",
        "Split_string_comma[0]"
      ],
      "execution_count": 26,
      "outputs": [
        {
          "output_type": "execute_result",
          "data": {
            "text/plain": [
              "'A'"
            ],
            "application/vnd.google.colaboratory.intrinsic+json": {
              "type": "string"
            }
          },
          "metadata": {},
          "execution_count": 26
        }
      ]
    },
    {
      "cell_type": "markdown",
      "metadata": {
        "id": "JdvgJ8oN6ORf"
      },
      "source": [
        "<h3 id=\"co\">Copy and Clone List</h3>"
      ]
    },
    {
      "cell_type": "code",
      "metadata": {
        "id": "VCgv7Joh6ORg",
        "colab": {
          "base_uri": "https://localhost:8080/"
        },
        "outputId": "0a30b30f-42d8-4e8a-c151-2a6bca2ed751"
      },
      "source": [
        "# Copy (copy by reference) the list A\n",
        "\n",
        "A = [\"hard rock\", 10, 1.2]\n",
        "B = A # B = A (같은 곳을 가리킨다 not equal to 같은 값을 두개 따로 가지는 것은 아니다) -->B에게 알려준다.. 너는 인제 A에서 찾아야 해...B = A (assign)\n",
        "\n",
        "\n",
        "A[0] = \"R&B\" # A의 0번째 데이터 변환\n",
        "\n",
        "print('A:', A) #R&B, 10, 1.2\n",
        "print('B:', B) #'hard rock, 10, 1.2"
      ],
      "execution_count": 28,
      "outputs": [
        {
          "output_type": "stream",
          "name": "stdout",
          "text": [
            "A: ['R&B', 10, 1.2]\n",
            "B: ['R&B', 10, 1.2]\n"
          ]
        }
      ]
    },
    {
      "cell_type": "markdown",
      "metadata": {
        "id": "l5-vaSC_6ORj"
      },
      "source": [
        "Initially, the value of the first element in <b>B</b> is set as hard rock. If we change the first element in <b>A</b> to <b>banana</b>, we get an unexpected side effect.  As <b>A</b> and <b>B</b> are referencing the same list, if we change list <b>A</b>, then list <b>B</b> also changes. If we check the first element of <b>B</b> we get banana instead of hard rock:"
      ]
    },
    {
      "cell_type": "code",
      "metadata": {
        "id": "POD6aVNX6ORj",
        "colab": {
          "base_uri": "https://localhost:8080/"
        },
        "outputId": "9ebf4b0c-c4b8-4729-a041-1aabaefd44fd"
      },
      "source": [
        "# Examine the copy by reference\n",
        "\n",
        "print('B[0]:', B[0])\n",
        "A[0] = \"banana\"\n",
        "print('B[0]:', B[0])"
      ],
      "execution_count": 29,
      "outputs": [
        {
          "output_type": "stream",
          "name": "stdout",
          "text": [
            "B[0]: R&B\n",
            "B[0]: banana\n"
          ]
        }
      ]
    },
    {
      "cell_type": "markdown",
      "metadata": {
        "id": "BCwkxT1g6ORn"
      },
      "source": [
        "You can clone list  **A** by using  the following syntax:"
      ]
    },
    {
      "cell_type": "code",
      "metadata": {
        "id": "m4hCDL5N6ORn",
        "colab": {
          "base_uri": "https://localhost:8080/"
        },
        "outputId": "731ad87e-33b5-48ed-836d-c7e5ac56580c"
      },
      "source": [
        "# Clone (clone by value) the list A\n",
        "A = [\"hard rock\", 10, 1.2]\n",
        "B = A[:] #A[:] #B는 A의 List를 복사해서 별도 List를 만든다. 이게 바로 Clone #Copy는 주소만 연결 Clone은 데이터 복사해서 별도 리스트 생성\n",
        "print(A)\n",
        "print(B)\n",
        "A[0] ='R&B'\n",
        "print(A)\n",
        "print(B)\n",
        "#A[0] = \"Banana\"\n",
        "#print(B)\n",
        "#print(A)"
      ],
      "execution_count": 30,
      "outputs": [
        {
          "output_type": "stream",
          "name": "stdout",
          "text": [
            "['hard rock', 10, 1.2]\n",
            "['hard rock', 10, 1.2]\n",
            "['R&B', 10, 1.2]\n",
            "['hard rock', 10, 1.2]\n"
          ]
        }
      ]
    },
    {
      "cell_type": "markdown",
      "metadata": {
        "id": "uLa0yHwr6ORu"
      },
      "source": [
        "<h2 id=\"quiz\">Quiz on List</h2>"
      ]
    },
    {
      "cell_type": "markdown",
      "metadata": {
        "id": "e4L88mTA6ORv"
      },
      "source": [
        "Create a list <code>a_list</code>, with the following elements <code>1</code>, <code>hello</code>, <code>[1,2,3]</code> and <code>True</code>. "
      ]
    },
    {
      "cell_type": "code",
      "metadata": {
        "id": "HAN8rxnH6ORv",
        "colab": {
          "base_uri": "https://localhost:8080/"
        },
        "outputId": "ce88ccd7-1028-4efd-b114-47460845da9f"
      },
      "source": [
        "# Write your code below and press Shift+Enter to execute\n",
        "a_list=[1, \"hello\", [1,2,3], True]\n",
        "a_list"
      ],
      "execution_count": 46,
      "outputs": [
        {
          "output_type": "execute_result",
          "data": {
            "text/plain": [
              "[1, 'hello', [1, 2, 3], True]"
            ]
          },
          "metadata": {},
          "execution_count": 46
        }
      ]
    },
    {
      "cell_type": "markdown",
      "metadata": {
        "id": "N-2_BadY6ORx"
      },
      "source": [
        "Find the value stored at index 1 of <code>a_list</code>."
      ]
    },
    {
      "cell_type": "code",
      "metadata": {
        "id": "tI_r_x-i6ORy",
        "colab": {
          "base_uri": "https://localhost:8080/",
          "height": 35
        },
        "outputId": "1ccacf3c-c46b-4eaa-bd7e-e002b1c939ba"
      },
      "source": [
        "# Write your code below and press Shift+Enter to execute\n",
        "a_list[1]\n"
      ],
      "execution_count": 47,
      "outputs": [
        {
          "output_type": "execute_result",
          "data": {
            "text/plain": [
              "'hello'"
            ],
            "application/vnd.google.colaboratory.intrinsic+json": {
              "type": "string"
            }
          },
          "metadata": {},
          "execution_count": 47
        }
      ]
    },
    {
      "cell_type": "code",
      "metadata": {
        "id": "ebEasRQV6OR1",
        "colab": {
          "base_uri": "https://localhost:8080/"
        },
        "outputId": "c8e3219a-3b43-4b5f-bb20-56d6b6c5b5b9"
      },
      "source": [
        "# Write your code below and press Shift+Enter to execute\n",
        "a_list[1:4]"
      ],
      "execution_count": 48,
      "outputs": [
        {
          "output_type": "execute_result",
          "data": {
            "text/plain": [
              "['hello', [1, 2, 3], True]"
            ]
          },
          "metadata": {},
          "execution_count": 48
        }
      ]
    },
    {
      "cell_type": "code",
      "metadata": {
        "id": "zCcOoqos6OR4",
        "colab": {
          "base_uri": "https://localhost:8080/"
        },
        "outputId": "4e1c6289-90c0-4d34-e7c6-453a5214a7ce"
      },
      "source": [
        "# Write your code below and press Shift+Enter to execute\n",
        "\n",
        "A = [1, 'a'] \n",
        "B = [2, 1, 'd']\n",
        "A + B"
      ],
      "execution_count": 49,
      "outputs": [
        {
          "output_type": "execute_result",
          "data": {
            "text/plain": [
              "[1, 'a', 2, 1, 'd']"
            ]
          },
          "metadata": {},
          "execution_count": 49
        }
      ]
    }
  ]
}