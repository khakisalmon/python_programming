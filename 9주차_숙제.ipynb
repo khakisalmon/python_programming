{
  "nbformat": 4,
  "nbformat_minor": 0,
  "metadata": {
    "colab": {
      "provenance": [],
      "authorship_tag": "ABX9TyPlx+oOuF+Ivogc5NNMW25y",
      "include_colab_link": true
    },
    "kernelspec": {
      "name": "python3",
      "display_name": "Python 3"
    },
    "language_info": {
      "name": "python"
    }
  },
  "cells": [
    {
      "cell_type": "markdown",
      "metadata": {
        "id": "view-in-github",
        "colab_type": "text"
      },
      "source": [
        "<a href=\"https://colab.research.google.com/github/khakisalmon/python_programming/blob/main/9%EC%A3%BC%EC%B0%A8_%EC%88%99%EC%A0%9C.ipynb\" target=\"_parent\"><img src=\"https://colab.research.google.com/assets/colab-badge.svg\" alt=\"Open In Colab\"/></a>"
      ]
    },
    {
      "cell_type": "code",
      "execution_count": null,
      "metadata": {
        "id": "PZVC3wrpLtD6"
      },
      "outputs": [],
      "source": [
        "\n",
        "number_list = []\n",
        "number_list.append(1)\n",
        "number_list.append(2)\n",
        "number_list.append(3)\n",
        "number_list.append(4)\n",
        "number_list.append(5)\n",
        "\n"
      ]
    },
    {
      "cell_type": "code",
      "source": [
        "number_list = []\n",
        "for number in range(1, 6):\n",
        "     number_list.append(number)"
      ],
      "metadata": {
        "id": "fGNKk90HNdjf"
      },
      "execution_count": null,
      "outputs": []
    },
    {
      "cell_type": "code",
      "source": [
        "number_list = list(range(1, 6))"
      ],
      "metadata": {
        "id": "Z2A8EumSwNxC"
      },
      "execution_count": null,
      "outputs": []
    },
    {
      "cell_type": "code",
      "source": [
        "number_list = [number for number in range(1,6)]"
      ],
      "metadata": {
        "id": "HTBI1w3owR3h"
      },
      "execution_count": null,
      "outputs": []
    },
    {
      "cell_type": "code",
      "source": [
        "number_list = [number-1 for number in range(1,6)]"
      ],
      "metadata": {
        "id": "baf8mX3KwVVj"
      },
      "execution_count": null,
      "outputs": []
    },
    {
      "cell_type": "code",
      "source": [
        "a_list = [number for number in range(1,6) if number % 2 == 1]"
      ],
      "metadata": {
        "id": "QKVhPamrxFrd"
      },
      "execution_count": null,
      "outputs": []
    },
    {
      "cell_type": "code",
      "source": [
        "a_list = []\n",
        "for number in range(1,6): \n",
        "   if number%2 == 1:\n",
        "       a_list.append(number)  "
      ],
      "metadata": {
        "id": "FfkOH8Hf2-rR"
      },
      "execution_count": null,
      "outputs": []
    },
    {
      "cell_type": "code",
      "source": [
        "sentence = ['I', 'Love', 'Python', 'Soooooo', 'MUCH!!!']\n"
      ],
      "metadata": {
        "id": "lOtvCW4D3QN4"
      },
      "execution_count": null,
      "outputs": []
    },
    {
      "cell_type": "code",
      "source": [
        "# 함수 적용\n",
        "[word.lower() for word in sentence] \n"
      ],
      "metadata": {
        "colab": {
          "base_uri": "https://localhost:8080/"
        },
        "id": "lhmHxGjR3a8_",
        "outputId": "90341dff-9678-4ea2-9b15-3a999f00a384"
      },
      "execution_count": null,
      "outputs": [
        {
          "output_type": "execute_result",
          "data": {
            "text/plain": [
              "['i', 'love', 'python', 'soooooo', 'much!!!']"
            ]
          },
          "metadata": {},
          "execution_count": 15
        }
      ]
    },
    {
      "cell_type": "code",
      "source": [
        "# 조건 적용\n",
        "[word for word in sentence if len(word) > 6] \n"
      ],
      "metadata": {
        "colab": {
          "base_uri": "https://localhost:8080/"
        },
        "id": "O4db1irS3drc",
        "outputId": "d24b585f-9918-422a-94dd-183d5a8a0a23"
      },
      "execution_count": null,
      "outputs": [
        {
          "output_type": "execute_result",
          "data": {
            "text/plain": [
              "['Soooooo', 'MUCH!!!']"
            ]
          },
          "metadata": {},
          "execution_count": 16
        }
      ]
    },
    {
      "cell_type": "code",
      "source": [
        "# 함수 적용하여 튜플로 저장\n",
        "[(x, x ** 2, x ** 3) for x in range(10)]"
      ],
      "metadata": {
        "colab": {
          "base_uri": "https://localhost:8080/"
        },
        "id": "tS9HAnJj3gXS",
        "outputId": "dbf90a33-47c7-4b3b-bff6-247e2a8c5f20"
      },
      "execution_count": null,
      "outputs": [
        {
          "output_type": "execute_result",
          "data": {
            "text/plain": [
              "[(0, 0, 0),\n",
              " (1, 1, 1),\n",
              " (2, 4, 8),\n",
              " (3, 9, 27),\n",
              " (4, 16, 64),\n",
              " (5, 25, 125),\n",
              " (6, 36, 216),\n",
              " (7, 49, 343),\n",
              " (8, 64, 512),\n",
              " (9, 81, 729)]"
            ]
          },
          "metadata": {},
          "execution_count": 18
        }
      ]
    },
    {
      "cell_type": "code",
      "source": [
        "rows = range(1,4) \n",
        "cols = range(1,3) \n",
        "for row in rows:\n",
        "    for col in cols: \n",
        "        print(row, col)"
      ],
      "metadata": {
        "colab": {
          "base_uri": "https://localhost:8080/"
        },
        "id": "lZ7CsEVx3jlL",
        "outputId": "5db9bf41-6b2a-4388-8864-14055be98027"
      },
      "execution_count": null,
      "outputs": [
        {
          "output_type": "stream",
          "name": "stdout",
          "text": [
            "1 1\n",
            "1 2\n",
            "2 1\n",
            "2 2\n",
            "3 1\n",
            "3 2\n"
          ]
        }
      ]
    },
    {
      "cell_type": "code",
      "source": [
        "rows = range(1,4) \n",
        "cols = range(1,3)\n",
        "cells = [(row, col) for row in rows for col in cols] \n",
        "for cell in cells:\n",
        "    print(cell)"
      ],
      "metadata": {
        "colab": {
          "base_uri": "https://localhost:8080/"
        },
        "id": "ZPDMvJLz4CM5",
        "outputId": "ea58fcc4-f202-4b90-9486-41770fa49f5c"
      },
      "execution_count": null,
      "outputs": [
        {
          "output_type": "stream",
          "name": "stdout",
          "text": [
            "(1, 1)\n",
            "(1, 2)\n",
            "(2, 1)\n",
            "(2, 2)\n",
            "(3, 1)\n",
            "(3, 2)\n"
          ]
        }
      ]
    },
    {
      "cell_type": "code",
      "source": [
        "[(i,j) for i in range(5) for j in range(i)]"
      ],
      "metadata": {
        "colab": {
          "base_uri": "https://localhost:8080/"
        },
        "id": "bD2_BKCW4Fzr",
        "outputId": "81f1c0e7-e343-4c44-aae9-7efc0c86102a"
      },
      "execution_count": null,
      "outputs": [
        {
          "output_type": "execute_result",
          "data": {
            "text/plain": [
              "[(1, 0),\n",
              " (2, 0),\n",
              " (2, 1),\n",
              " (3, 0),\n",
              " (3, 1),\n",
              " (3, 2),\n",
              " (4, 0),\n",
              " (4, 1),\n",
              " (4, 2),\n",
              " (4, 3)]"
            ]
          },
          "metadata": {},
          "execution_count": 24
        }
      ]
    },
    {
      "cell_type": "code",
      "source": [
        "word = 'letters'\n",
        "letter_counts = {letter: word.count(letter) for letter in word}"
      ],
      "metadata": {
        "id": "0epf3AaH4QCE"
      },
      "execution_count": null,
      "outputs": []
    },
    {
      "cell_type": "code",
      "source": [
        "word = 'letters'\n",
        "letter_counts = {letter: word.count(letter) for letter in set(word)}"
      ],
      "metadata": {
        "id": "p-TFZOYT4UWR"
      },
      "execution_count": null,
      "outputs": []
    },
    {
      "cell_type": "code",
      "source": [
        "a_set = {number for number in range(1,6) if number % 3 == 1}"
      ],
      "metadata": {
        "id": "FkY77FT4Auzn"
      },
      "execution_count": null,
      "outputs": []
    },
    {
      "cell_type": "code",
      "source": [
        "def sum(a,b):\n",
        "     return a+b\n",
        "\n",
        "sum(1,2)\n",
        "sum(1.3, 3.1)\n",
        "sum('love ','python')"
      ],
      "metadata": {
        "id": "EVnsOpoRBGjD",
        "colab": {
          "base_uri": "https://localhost:8080/",
          "height": 36
        },
        "outputId": "85ec4866-2cbc-4bcf-e638-94266b235a5d"
      },
      "execution_count": null,
      "outputs": [
        {
          "output_type": "execute_result",
          "data": {
            "text/plain": [
              "'love python'"
            ],
            "application/vnd.google.colaboratory.intrinsic+json": {
              "type": "string"
            }
          },
          "metadata": {},
          "execution_count": 7
        }
      ]
    },
    {
      "cell_type": "code",
      "source": [
        "days = ['Monday', 'Tuesday', 'Wednesday'] \n",
        "fruits = ['banana', 'orange', 'peach'] \n",
        "drinks = ['coffee', 'tea', 'beer']\n",
        "desserts = ['tiramisu', 'ice cream', 'pie', 'pudding']\n",
        "\n",
        "for day, fruit, drink, dessert in zip(days, fruits, drinks, desserts): \n",
        "             print(day, \": drink\", drink, \"- eat\", fruit, \"- enjoy\", dessert)"
      ],
      "metadata": {
        "colab": {
          "base_uri": "https://localhost:8080/"
        },
        "id": "mLLmWOSPCJdc",
        "outputId": "47e8b1d0-7731-47f9-ddb3-1cf46647af6e"
      },
      "execution_count": null,
      "outputs": [
        {
          "output_type": "stream",
          "name": "stdout",
          "text": [
            "Monday : drink coffee - eat banana - enjoy tiramisu\n",
            "Tuesday : drink tea - eat orange - enjoy ice cream\n",
            "Wednesday : drink beer - eat peach - enjoy pie\n"
          ]
        }
      ]
    },
    {
      "cell_type": "code",
      "source": [
        "english = 'Monday', 'Tuesday', 'Wednesday' \n",
        "french = 'Lundi', 'Mardi', 'Mercredi'\n",
        "list( zip(english, french) )\n",
        "# [('Monday', 'Lundi'), ('Tuesday', 'Mardi'), ('Wednesday', 'Mercredi')] \n",
        "dict( zip(english, french) )\n",
        "# {'Monday': 'Lundi', 'Tuesday': 'Mardi', 'Wednesday': 'Mercredi'}"
      ],
      "metadata": {
        "colab": {
          "base_uri": "https://localhost:8080/"
        },
        "id": "IfU8VLDECfjk",
        "outputId": "7b32dd3f-6463-4c36-cd25-1c76b66323c5"
      },
      "execution_count": null,
      "outputs": [
        {
          "output_type": "execute_result",
          "data": {
            "text/plain": [
              "{'Monday': 'Lundi', 'Tuesday': 'Mardi', 'Wednesday': 'Mercredi'}"
            ]
          },
          "metadata": {},
          "execution_count": 13
        }
      ]
    },
    {
      "cell_type": "code",
      "source": [
        "def menu(wine, entree, dessert):\n",
        "    return {'wine': wine, 'entree': entree, 'dessert': dessert}\n",
        "\n",
        "menu('chardonnay', 'chicken', 'cake')\n",
        "{'wine': 'chardonnay', 'entree': 'chicken', 'dessert': 'cake'}"
      ],
      "metadata": {
        "colab": {
          "base_uri": "https://localhost:8080/"
        },
        "id": "mW6TjRZ2CnGw",
        "outputId": "dc9e3b5d-e9e3-47e6-d813-7c3daff5f3f6"
      },
      "execution_count": null,
      "outputs": [
        {
          "output_type": "execute_result",
          "data": {
            "text/plain": [
              "{'wine': 'chardonnay', 'entree': 'chicken', 'dessert': 'cake'}"
            ]
          },
          "metadata": {},
          "execution_count": 16
        }
      ]
    },
    {
      "cell_type": "code",
      "source": [
        "def menu(wine, entree, dessert):\n",
        "    return {'wine': wine, 'entree': entree, 'dessert': dessert}\n",
        "\n",
        "menu(entree='beef', dessert='bagel', wine='bordeaux') \n",
        "{'dessert': 'bagel', 'wine': 'bordeaux', 'entree': 'beef'}"
      ],
      "metadata": {
        "colab": {
          "base_uri": "https://localhost:8080/"
        },
        "id": "64z1VuihC1WO",
        "outputId": "90b0cb60-b4e4-472d-e7ca-7de458584530"
      },
      "execution_count": null,
      "outputs": [
        {
          "output_type": "execute_result",
          "data": {
            "text/plain": [
              "{'dessert': 'bagel', 'wine': 'bordeaux', 'entree': 'beef'}"
            ]
          },
          "metadata": {},
          "execution_count": 22
        }
      ]
    },
    {
      "cell_type": "code",
      "source": [
        "menu('frontenac', dessert='flan', entree='fish') \n",
        "{'entree': 'fish', 'dessert': 'flan', 'wine': 'frontenac'}"
      ],
      "metadata": {
        "colab": {
          "base_uri": "https://localhost:8080/"
        },
        "id": "CDgE6PCFDptH",
        "outputId": "06534947-8541-4b8c-9d44-007f3b66b173"
      },
      "execution_count": null,
      "outputs": [
        {
          "output_type": "execute_result",
          "data": {
            "text/plain": [
              "{'entree': 'fish', 'dessert': 'flan', 'wine': 'frontenac'}"
            ]
          },
          "metadata": {},
          "execution_count": 23
        }
      ]
    },
    {
      "cell_type": "code",
      "source": [
        "def menu(wine, entree, dessert='pudding'):\n",
        "    return {'wine': wine, 'entree': entree, 'dessert': dessert}\n",
        "\n",
        "menu('chardonnay', 'chicken')\n",
        "{'dessert': 'pudding', 'wine': 'chardonnay', 'entree': 'chicken'}"
      ],
      "metadata": {
        "colab": {
          "base_uri": "https://localhost:8080/"
        },
        "id": "YTWFg-AUDy39",
        "outputId": "40fe8cc6-fa9d-4a11-c172-bf9a879a98de"
      },
      "execution_count": null,
      "outputs": [
        {
          "output_type": "execute_result",
          "data": {
            "text/plain": [
              "{'dessert': 'pudding', 'wine': 'chardonnay', 'entree': 'chicken'}"
            ]
          },
          "metadata": {},
          "execution_count": 31
        }
      ]
    },
    {
      "cell_type": "code",
      "source": [
        "menu('dunkelfelder', 'duck', 'doughnut')\n",
        "{'dessert': 'doughnut', 'wine': 'dunkelfelder', 'entree': 'duck'}"
      ],
      "metadata": {
        "colab": {
          "base_uri": "https://localhost:8080/"
        },
        "id": "w3GHG2jGEdxd",
        "outputId": "76ec7749-4958-4654-b689-d3a6509aed4f"
      },
      "execution_count": null,
      "outputs": [
        {
          "output_type": "execute_result",
          "data": {
            "text/plain": [
              "{'dessert': 'doughnut', 'wine': 'dunkelfelder', 'entree': 'duck'}"
            ]
          },
          "metadata": {},
          "execution_count": 34
        }
      ]
    },
    {
      "cell_type": "code",
      "source": [
        "def menu(price, wine='chardonnay', entree='chicken', dessert='pudding'): \n",
        "    return {'price': price, 'wine': wine, 'entree': entree, 'dessert': dessert}\n",
        "\n",
        "menu(100)                              # 1 위치 인자 \n",
        "menu(price=100)                        # 1 키워드 인자\n",
        "menu(price=120, entree='beef')         # 2 키워드 인자\n",
        "menu(dessert='bagel', price=110)       # 2 키워드 인자\n",
        "menu('eighty', 'saint-pierre', 'fish')  # 3 위치 인자\n",
        "menu('hundred', wine ='saint-pierre')   # 1 위치 인자, 1 키워드 인자"
      ],
      "metadata": {
        "colab": {
          "base_uri": "https://localhost:8080/"
        },
        "id": "O1X6c6UuEqlJ",
        "outputId": "a96a014a-e6d4-45d2-b4da-e11823174c1a"
      },
      "execution_count": null,
      "outputs": [
        {
          "output_type": "execute_result",
          "data": {
            "text/plain": [
              "{'price': 'hundred',\n",
              " 'wine': 'saint-pierre',\n",
              " 'entree': 'chicken',\n",
              " 'dessert': 'pudding'}"
            ]
          },
          "metadata": {},
          "execution_count": 48
        }
      ]
    },
    {
      "cell_type": "code",
      "source": [
        "def print_if_true(thing, check): \n",
        "   \"\"\"\n",
        "    Prints the first argument if a second argument is true. \n",
        "    The operation is:\n",
        "    1. Check whether the *second* argument is true.\n",
        "    2. If it is, print the *first* argument. \n",
        "   \"\"\"\n",
        "   if check: \n",
        "      print(thing)\n"
      ],
      "metadata": {
        "id": "Fi0Q55IRHetE"
      },
      "execution_count": null,
      "outputs": []
    },
    {
      "cell_type": "code",
      "source": [
        " print_if_true('hahaha',1!=3)"
      ],
      "metadata": {
        "colab": {
          "base_uri": "https://localhost:8080/"
        },
        "id": "v0T8lKuLJiBk",
        "outputId": "ddabd62e-6c38-4e40-adb9-9ab55895ac41"
      },
      "execution_count": null,
      "outputs": [
        {
          "output_type": "stream",
          "name": "stdout",
          "text": [
            "hahaha\n"
          ]
        }
      ]
    },
    {
      "cell_type": "code",
      "source": [
        "help(print_if_true)"
      ],
      "metadata": {
        "colab": {
          "base_uri": "https://localhost:8080/"
        },
        "id": "cqn021oPJTxS",
        "outputId": "74064773-ded8-496a-ba35-4d3b93a5bb86"
      },
      "execution_count": null,
      "outputs": [
        {
          "output_type": "stream",
          "name": "stdout",
          "text": [
            "Help on function print_if_true in module __main__:\n",
            "\n",
            "print_if_true(thing, check)\n",
            "    Prints the first argument if a second argument is true. \n",
            "    The operation is:\n",
            "    1. Check whether the *second* argument is true.\n",
            "    2. If it is, print the *first* argument.\n",
            "\n"
          ]
        }
      ]
    }
  ]
}