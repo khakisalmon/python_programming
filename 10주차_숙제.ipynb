{
  "nbformat": 4,
  "nbformat_minor": 0,
  "metadata": {
    "colab": {
      "provenance": [],
      "authorship_tag": "ABX9TyO6xNUo8v8o3tIKWQ3JNDgo",
      "include_colab_link": true
    },
    "kernelspec": {
      "name": "python3",
      "display_name": "Python 3"
    },
    "language_info": {
      "name": "python"
    }
  },
  "cells": [
    {
      "cell_type": "markdown",
      "metadata": {
        "id": "view-in-github",
        "colab_type": "text"
      },
      "source": [
        "<a href=\"https://colab.research.google.com/github/khakisalmon/python_programming/blob/main/10%EC%A3%BC%EC%B0%A8_%EC%88%99%EC%A0%9C.ipynb\" target=\"_parent\"><img src=\"https://colab.research.google.com/assets/colab-badge.svg\" alt=\"Open In Colab\"/></a>"
      ]
    },
    {
      "cell_type": "code",
      "execution_count": 2,
      "metadata": {
        "colab": {
          "base_uri": "https://localhost:8080/"
        },
        "id": "b50tPVpk3AWC",
        "outputId": "2511b559-adf7-4abc-bca2-f9c65fb471a5"
      },
      "outputs": [
        {
          "output_type": "stream",
          "name": "stdout",
          "text": [
            "3\n",
            "7\n",
            "12\n"
          ]
        }
      ],
      "source": [
        "result = 0\n",
        "\n",
        "def add(num):\n",
        "    global result\n",
        "    result += num\n",
        "    return result\n",
        "\n",
        "print(add(3))\n",
        "print(add(4))\n",
        "print(add(5))"
      ]
    },
    {
      "cell_type": "code",
      "source": [
        "result1 = 0\n",
        "result2 = 0\n",
        "\n",
        "def add1(num):\n",
        "    global result1\n",
        "    result1 += num\n",
        "    return result1\n",
        "\n",
        "def add2(num):\n",
        "    global result2\n",
        "    result2 += num\n",
        "    return result2\n",
        "\n",
        "print(add1(3))\n",
        "print(add1(4))\n",
        "print(add2(3))\n",
        "print(add2(7))"
      ],
      "metadata": {
        "colab": {
          "base_uri": "https://localhost:8080/"
        },
        "id": "41OF83e77Bz-",
        "outputId": "14a8c675-7578-42d5-f021-8304e0ecb694"
      },
      "execution_count": 3,
      "outputs": [
        {
          "output_type": "stream",
          "name": "stdout",
          "text": [
            "3\n",
            "7\n",
            "3\n",
            "10\n"
          ]
        }
      ]
    },
    {
      "cell_type": "code",
      "source": [
        "class Calculator:\n",
        "    def __init__(self):\n",
        "        self.result = 0\n",
        "\n",
        "    def add(self, num):\n",
        "        self.result += num\n",
        "        return self.result\n",
        "\n",
        "cal1 = Calculator()\n",
        "cal2 = Calculator()\n",
        "\n",
        "print(cal1.add(3))\n",
        "print(cal1.add(4))\n",
        "print(cal2.add(3))\n",
        "print(cal2.add(7))"
      ],
      "metadata": {
        "colab": {
          "base_uri": "https://localhost:8080/"
        },
        "id": "Qd-bv0l97KTV",
        "outputId": "c4266db1-ff32-4eee-d46d-3e3e54b5434c"
      },
      "execution_count": 4,
      "outputs": [
        {
          "output_type": "stream",
          "name": "stdout",
          "text": [
            "3\n",
            "7\n",
            "3\n",
            "10\n"
          ]
        }
      ]
    },
    {
      "cell_type": "code",
      "source": [
        "class Calculator:\n",
        "    def __init__(self):\n",
        "        self.result = 0\n",
        "\n",
        "    def add(self, num):\n",
        "        self.result += num\n",
        "        return self.result\n",
        "\n",
        "    def sub(self, num):\n",
        "        self.result -= num\n",
        "        return self.result"
      ],
      "metadata": {
        "id": "IZdXk-7c7Xxa"
      },
      "execution_count": 6,
      "outputs": []
    },
    {
      "cell_type": "code",
      "source": [
        "class FourCal:\n",
        "      pass\n",
        "a = FourCal()\n",
        "type(a)\n"
      ],
      "metadata": {
        "colab": {
          "base_uri": "https://localhost:8080/"
        },
        "id": "TCgdPDt28cl_",
        "outputId": "c3310a56-4864-46da-cb5e-c9501d12e751"
      },
      "execution_count": 10,
      "outputs": [
        {
          "output_type": "execute_result",
          "data": {
            "text/plain": [
              "__main__.FourCal"
            ]
          },
          "metadata": {},
          "execution_count": 10
        }
      ]
    },
    {
      "cell_type": "code",
      "source": [
        "class FourCal:\n",
        "...     def setdata(self, first, second):\n",
        "...         self.first = first\n",
        "...         self.second = second"
      ],
      "metadata": {
        "id": "ByMfZSX99HGI"
      },
      "execution_count": 12,
      "outputs": []
    },
    {
      "cell_type": "code",
      "source": [
        "a = FourCal()\n",
        "a.setdata(4, 2)"
      ],
      "metadata": {
        "id": "mWjR7-JO9RAo"
      },
      "execution_count": 14,
      "outputs": []
    },
    {
      "cell_type": "code",
      "source": [
        "print(a.first)\n",
        "print(a.second)    "
      ],
      "metadata": {
        "colab": {
          "base_uri": "https://localhost:8080/"
        },
        "id": "FiVFAQBB9Tj6",
        "outputId": "6ca88b58-e8a0-42a6-8bdc-d0af14f0b213"
      },
      "execution_count": 15,
      "outputs": [
        {
          "output_type": "stream",
          "name": "stdout",
          "text": [
            "4\n",
            "2\n"
          ]
        }
      ]
    },
    {
      "cell_type": "code",
      "source": [
        "class FourCal:\n",
        "...     def setdata(self, first, second):\n",
        "...         self.first = first\n",
        "...         self.second = second\n",
        "...     def add(self):\n",
        "...         result = self.first + self.second\n",
        "...         return result"
      ],
      "metadata": {
        "id": "fDBngVAV-SHT"
      },
      "execution_count": 16,
      "outputs": []
    },
    {
      "cell_type": "code",
      "source": [
        " a = FourCal()\n",
        " a.setdata(4, 2)\n",
        " a.add()"
      ],
      "metadata": {
        "colab": {
          "base_uri": "https://localhost:8080/"
        },
        "id": "tb265eQF-X3m",
        "outputId": "8eabc851-906e-4c6d-9e6a-c9592ca70ac9"
      },
      "execution_count": 18,
      "outputs": [
        {
          "output_type": "execute_result",
          "data": {
            "text/plain": [
              "6"
            ]
          },
          "metadata": {},
          "execution_count": 18
        }
      ]
    },
    {
      "cell_type": "code",
      "source": [
        "class FourCal:\n",
        "...     def setdata(self, first, second):\n",
        "...         self.first = first\n",
        "...         self.second = second\n",
        "...     def add(self):\n",
        "...         result = self.first + self.second\n",
        "...         return result\n",
        "...     def mul(self):\n",
        "...         result = self.first * self.second\n",
        "...         return result\n",
        "...     def sub(self):\n",
        "...         result = self.first - self.second\n",
        "...         return result\n",
        "...     def div(self):\n",
        "...         result = self.first / self.second\n",
        "...         return result"
      ],
      "metadata": {
        "id": "XVfkFrob-nEz"
      },
      "execution_count": 19,
      "outputs": []
    },
    {
      "cell_type": "code",
      "source": [
        ">>> a = FourCal()\n",
        ">>> b = FourCal()\n",
        ">>> a.setdata(4, 2)\n",
        ">>> b.setdata(3, 8)\n",
        ">>> a.add()"
      ],
      "metadata": {
        "colab": {
          "base_uri": "https://localhost:8080/"
        },
        "id": "oOBVniD0-q39",
        "outputId": "53a9ec62-072a-48ea-c68a-4d89a29d8f15"
      },
      "execution_count": 20,
      "outputs": [
        {
          "output_type": "execute_result",
          "data": {
            "text/plain": [
              "6"
            ]
          },
          "metadata": {},
          "execution_count": 20
        }
      ]
    },
    {
      "cell_type": "code",
      "source": [
        ">>> a.mul()"
      ],
      "metadata": {
        "colab": {
          "base_uri": "https://localhost:8080/"
        },
        "id": "NWRc-jqj-xGX",
        "outputId": "a82e175d-f1f6-4d67-90fd-5bdda29805d2"
      },
      "execution_count": 21,
      "outputs": [
        {
          "output_type": "execute_result",
          "data": {
            "text/plain": [
              "8"
            ]
          },
          "metadata": {},
          "execution_count": 21
        }
      ]
    },
    {
      "cell_type": "code",
      "source": [
        ">>> a.sub()"
      ],
      "metadata": {
        "colab": {
          "base_uri": "https://localhost:8080/"
        },
        "id": "GstPEO0G-yYS",
        "outputId": "545a1011-7565-4145-aadd-76fe3a5ddf27"
      },
      "execution_count": 22,
      "outputs": [
        {
          "output_type": "execute_result",
          "data": {
            "text/plain": [
              "2"
            ]
          },
          "metadata": {},
          "execution_count": 22
        }
      ]
    },
    {
      "cell_type": "code",
      "source": [
        ">>> a.div()"
      ],
      "metadata": {
        "colab": {
          "base_uri": "https://localhost:8080/"
        },
        "id": "cQVx6BS5-0b2",
        "outputId": "817408fd-db97-4ec0-cde8-f5b755c5ff50"
      },
      "execution_count": 23,
      "outputs": [
        {
          "output_type": "execute_result",
          "data": {
            "text/plain": [
              "2.0"
            ]
          },
          "metadata": {},
          "execution_count": 23
        }
      ]
    },
    {
      "cell_type": "code",
      "source": [
        ">>> b.add()"
      ],
      "metadata": {
        "colab": {
          "base_uri": "https://localhost:8080/"
        },
        "id": "SwQlIS4J-4Bo",
        "outputId": "7d31dd1c-06ac-4528-e006-e70a4542b9cc"
      },
      "execution_count": 24,
      "outputs": [
        {
          "output_type": "execute_result",
          "data": {
            "text/plain": [
              "11"
            ]
          },
          "metadata": {},
          "execution_count": 24
        }
      ]
    },
    {
      "cell_type": "code",
      "source": [
        ">>> b.mul()"
      ],
      "metadata": {
        "colab": {
          "base_uri": "https://localhost:8080/"
        },
        "id": "LLlFvvBX-6AB",
        "outputId": "b8b8f956-6602-4d74-bef3-4c986e66aa2c"
      },
      "execution_count": 25,
      "outputs": [
        {
          "output_type": "execute_result",
          "data": {
            "text/plain": [
              "24"
            ]
          },
          "metadata": {},
          "execution_count": 25
        }
      ]
    },
    {
      "cell_type": "code",
      "source": [
        ">>> b.sub()"
      ],
      "metadata": {
        "colab": {
          "base_uri": "https://localhost:8080/"
        },
        "id": "siITIU1c-75m",
        "outputId": "ec150cd1-f657-4697-bf98-4e093862bf66"
      },
      "execution_count": 26,
      "outputs": [
        {
          "output_type": "execute_result",
          "data": {
            "text/plain": [
              "-5"
            ]
          },
          "metadata": {},
          "execution_count": 26
        }
      ]
    },
    {
      "cell_type": "code",
      "source": [
        ">>> b.div()"
      ],
      "metadata": {
        "colab": {
          "base_uri": "https://localhost:8080/"
        },
        "id": "GcY9IZBe-9xj",
        "outputId": "5db5d0cc-d14b-4225-f681-a38fd83348ca"
      },
      "execution_count": 27,
      "outputs": [
        {
          "output_type": "execute_result",
          "data": {
            "text/plain": [
              "0.375"
            ]
          },
          "metadata": {},
          "execution_count": 27
        }
      ]
    },
    {
      "cell_type": "code",
      "source": [
        "import random\n",
        "\n",
        "player1_dice = []\n",
        "player2_dice = []\n",
        "\n",
        "for i in range(3):\n",
        "  player1_dice.append(random.randint(1,6))\n",
        "  player2_dice.append(random.randint(1,6))\n",
        "\n",
        "print(\"Player 1 rolled\" + str(player1_dice))\n",
        "print(\"Player 2 rolled\" + str(player2_dice))\n",
        "\n",
        "if sum(player1_dice) == sum(player2_dice):\n",
        "  print(\"Draw\")\n",
        "elif sum(player1_dice) > sum(player2_dice):\n",
        "  print(\"Player 1 wins\")\n",
        "else:\n",
        "  print(\"Player 2 wins\")"
      ],
      "metadata": {
        "colab": {
          "base_uri": "https://localhost:8080/"
        },
        "id": "f8Wt1cxz_f3x",
        "outputId": "60526abb-48a6-42a7-ae7f-d2c2df959b00"
      },
      "execution_count": 28,
      "outputs": [
        {
          "output_type": "stream",
          "name": "stdout",
          "text": [
            "Player 1 rolled[5, 5, 5]\n",
            "Player 2 rolled[6, 1, 5]\n",
            "Player 1 wins\n"
          ]
        }
      ]
    },
    {
      "cell_type": "code",
      "source": [
        "from random import randint\n",
        "\n",
        "class Player:\n",
        "  def __init__(self):\n",
        "    self.dice = []\n",
        "\n",
        "  def roll(self):\n",
        "    self.dice = [] # clears current dice\n",
        "    for i in range(3):\n",
        "      self.dice.append(randint(1,6))\n",
        "\n",
        "  def get_dice(self):\n",
        "    return self.dice\n",
        "\n",
        "player1 = Player()\n",
        "player2 = Player()\n",
        "\n",
        "player1.roll()\n",
        "player2.roll()\n",
        "\n",
        "print(\"Player 1 rolled\" + str(player1.get_dice()))\n",
        "print(\"Player 2 rolled\" + str(player2.get_dice()))\n",
        "\n",
        "if sum(player1.get_dice()) == sum(player2.get_dice()):\n",
        "  print(\"Draw!\")\n",
        "elif sum(player1.get_dice()) > sum(player2.get_dice()):\n",
        "  print(\"Player 1 wins!\")\n",
        "else:\n",
        "  print(\"Player 2 wins!\")"
      ],
      "metadata": {
        "colab": {
          "base_uri": "https://localhost:8080/"
        },
        "id": "n5eBnfNn_-DZ",
        "outputId": "4f0b0bfc-1bb3-48ac-d280-d642f4f860b3"
      },
      "execution_count": 30,
      "outputs": [
        {
          "output_type": "stream",
          "name": "stdout",
          "text": [
            "Player 1 rolled[5, 1, 1]\n",
            "Player 2 rolled[2, 2, 2]\n",
            "Player 1 wins!\n"
          ]
        }
      ]
    }
  ]
}