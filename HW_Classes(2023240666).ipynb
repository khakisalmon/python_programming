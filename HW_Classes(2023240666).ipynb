{
  "nbformat": 4,
  "nbformat_minor": 0,
  "metadata": {
    "kernelspec": {
      "display_name": "Python 3",
      "language": "python",
      "name": "python3"
    },
    "language_info": {
      "codemirror_mode": {
        "name": "ipython",
        "version": 3
      },
      "file_extension": ".py",
      "mimetype": "text/x-python",
      "name": "python",
      "nbconvert_exporter": "python",
      "pygments_lexer": "ipython3",
      "version": "3.6.8"
    },
    "colab": {
      "provenance": [],
      "include_colab_link": true
    }
  },
  "cells": [
    {
      "cell_type": "markdown",
      "metadata": {
        "id": "view-in-github",
        "colab_type": "text"
      },
      "source": [
        "<a href=\"https://colab.research.google.com/github/khakisalmon/python_programming/blob/main/HW_Classes(2023240666).ipynb\" target=\"_parent\"><img src=\"https://colab.research.google.com/assets/colab-badge.svg\" alt=\"Open In Colab\"/></a>"
      ]
    },
    {
      "cell_type": "markdown",
      "metadata": {
        "id": "URSOnSp3ULD-"
      },
      "source": [
        "<h1>Classes and Objects in Python</h1>"
      ]
    },
    {
      "cell_type": "markdown",
      "metadata": {
        "id": "kGIvL0-jULD_"
      },
      "source": [
        "<p>\n",
        "    <strong>Welcome!</strong> \n",
        "    Objects in programming are like objects in real life. Like life, there are different classes of objects. In this notebook, we will create two classes called Circle and Rectangle. By the end of this notebook, you will have a better idea about :\n",
        "    <ul>\n",
        "        <li>what a class is</li>\n",
        "        <li>what an attribute is</li>\n",
        "        <li>what a method is</li>\n",
        "    </ul>\n",
        "\n",
        "   Don’t worry if you don’t get it the first time, as much of the terminology is confusing. Don’t forget to do the practice tests in the notebook.\n",
        "</p>"
      ]
    },
    {
      "cell_type": "markdown",
      "metadata": {
        "id": "g7ATz-4MULEB"
      },
      "source": [
        "<h2 id=\"intro\">Introduction to Classes and Objects</h2>"
      ]
    },
    {
      "cell_type": "markdown",
      "metadata": {
        "id": "cInKohAaULEC"
      },
      "source": [
        "<h3>Creating a Class</h3>"
      ]
    },
    {
      "cell_type": "markdown",
      "metadata": {
        "id": "JoAnUUaGULEJ"
      },
      "source": [
        "Now we are going to create a class circle, but first, we are going to import a library to draw the objects: "
      ]
    },
    {
      "cell_type": "code",
      "metadata": {
        "id": "i47_EYRiULEK"
      },
      "source": [
        "# Import the library\n",
        "\n",
        "import matplotlib.pyplot as plt #그림을 그려줘... library.. \n",
        "%matplotlib inline  "
      ],
      "execution_count": 6,
      "outputs": []
    },
    {
      "cell_type": "markdown",
      "metadata": {
        "id": "uCbD9lHlULEO"
      },
      "source": [
        " The first step in creating your own class is to use the <code>class</code> keyword, then the name of the class as shown in Figure 4. In this course the class parent will always be object: "
      ]
    },
    {
      "cell_type": "code",
      "metadata": {
        "id": "YhoVfpbFULER"
      },
      "source": [
        "# Create a class Circle\n",
        "\n",
        "class Circle(object):\n",
        "    \n",
        "    # Constructor  #내가 객체를 하나 초기화 해서 만들 예정\n",
        "    def __init__(self, radius, color='blue'):\n",
        "        self.radius = radius\n",
        "        self.color = color \n",
        "    \n",
        "    # Method\n",
        "    def add_radius(self, r):\n",
        "        self.radius = self.radius + r\n",
        "        return(self.radius)\n",
        "    \n",
        "    # Method\n",
        "    def drawCircle(self):\n",
        "        plt.gca().add_patch(plt.Circle((0, 0), radius=self.radius, fc=self.color))\n",
        "        plt.axis('scaled')\n",
        "        plt.show()  "
      ],
      "execution_count": 7,
      "outputs": []
    },
    {
      "cell_type": "markdown",
      "metadata": {
        "id": "6rnUAzPkULEU"
      },
      "source": [
        "<hr>"
      ]
    },
    {
      "cell_type": "markdown",
      "metadata": {
        "id": "n_Sya8VDULEU"
      },
      "source": [
        "<h2 id=\"circle\">Creating an instance of a class Circle</h2>"
      ]
    },
    {
      "cell_type": "markdown",
      "metadata": {
        "id": "ySjSEBz5ULEV"
      },
      "source": [
        "Let’s create the object <code>RedCircle</code> of type Circle to do the following:"
      ]
    },
    {
      "cell_type": "code",
      "metadata": {
        "id": "hnZuxC4-ULEV",
        "colab": {
          "base_uri": "https://localhost:8080/"
        },
        "outputId": "704d9a06-69b9-4abc-b8e2-b18740f20311"
      },
      "source": [
        "# Create an object RedCircle\n",
        "\n",
        "RedCircle = Circle(0, 'red')\n",
        "RedCircle.radius\n",
        "RedCircle.add_radius(2)\n",
        "RedCircle.radius\n",
        "RedCircle.add_radius(2)\n",
        "RedCircle.radius\n",
        "RedCircle.add_radius(2)\n"
      ],
      "execution_count": 8,
      "outputs": [
        {
          "output_type": "execute_result",
          "data": {
            "text/plain": [
              "6"
            ]
          },
          "metadata": {},
          "execution_count": 8
        }
      ]
    },
    {
      "cell_type": "code",
      "source": [
        "RedCircle = Circle(1, 'red')\n",
        "RedCircle.radius"
      ],
      "metadata": {
        "colab": {
          "base_uri": "https://localhost:8080/"
        },
        "id": "wOjRUqxrzj7H",
        "outputId": "3d90a8da-cfb7-41d8-e7d6-352e298c1b21"
      },
      "execution_count": 9,
      "outputs": [
        {
          "output_type": "execute_result",
          "data": {
            "text/plain": [
              "1"
            ]
          },
          "metadata": {},
          "execution_count": 9
        }
      ]
    },
    {
      "cell_type": "code",
      "metadata": {
        "id": "lwE9yTXSULEY",
        "colab": {
          "base_uri": "https://localhost:8080/"
        },
        "outputId": "2ec65f2a-644b-4e5e-cd38-74e6beb45daa"
      },
      "source": [
        "# Find out the methods can be used on the object RedCircle\n",
        "\n",
        "dir(RedCircle)"
      ],
      "execution_count": 10,
      "outputs": [
        {
          "output_type": "execute_result",
          "data": {
            "text/plain": [
              "['__class__',\n",
              " '__delattr__',\n",
              " '__dict__',\n",
              " '__dir__',\n",
              " '__doc__',\n",
              " '__eq__',\n",
              " '__format__',\n",
              " '__ge__',\n",
              " '__getattribute__',\n",
              " '__gt__',\n",
              " '__hash__',\n",
              " '__init__',\n",
              " '__init_subclass__',\n",
              " '__le__',\n",
              " '__lt__',\n",
              " '__module__',\n",
              " '__ne__',\n",
              " '__new__',\n",
              " '__reduce__',\n",
              " '__reduce_ex__',\n",
              " '__repr__',\n",
              " '__setattr__',\n",
              " '__sizeof__',\n",
              " '__str__',\n",
              " '__subclasshook__',\n",
              " '__weakref__',\n",
              " 'add_radius',\n",
              " 'color',\n",
              " 'drawCircle',\n",
              " 'radius']"
            ]
          },
          "metadata": {},
          "execution_count": 10
        }
      ]
    },
    {
      "cell_type": "markdown",
      "metadata": {
        "id": "t0nSeUIkULEb"
      },
      "source": [
        "We can look at the data attributes of the object: "
      ]
    },
    {
      "cell_type": "code",
      "metadata": {
        "id": "XSmctd7wULEb",
        "colab": {
          "base_uri": "https://localhost:8080/"
        },
        "outputId": "b9d77337-3195-42e3-91c5-51e3f4544260"
      },
      "source": [
        "# Print the object attribute radius\n",
        "\n",
        "RedCircle.radius"
      ],
      "execution_count": null,
      "outputs": [
        {
          "output_type": "execute_result",
          "data": {
            "text/plain": [
              "1"
            ]
          },
          "metadata": {},
          "execution_count": 23
        }
      ]
    },
    {
      "cell_type": "code",
      "metadata": {
        "id": "rBzwpM5pULEe",
        "colab": {
          "base_uri": "https://localhost:8080/",
          "height": 35
        },
        "outputId": "fcf5cb6b-0186-487e-851d-e2a28cbb74f7"
      },
      "source": [
        "# Print the object attribute color\n",
        "\n",
        "RedCircle.color"
      ],
      "execution_count": 11,
      "outputs": [
        {
          "output_type": "execute_result",
          "data": {
            "text/plain": [
              "'red'"
            ],
            "application/vnd.google.colaboratory.intrinsic+json": {
              "type": "string"
            }
          },
          "metadata": {},
          "execution_count": 11
        }
      ]
    },
    {
      "cell_type": "markdown",
      "metadata": {
        "id": "L1U54xOzULEh"
      },
      "source": [
        " We can change the object's data attributes: "
      ]
    },
    {
      "cell_type": "code",
      "metadata": {
        "id": "4nT9GHHrULEh",
        "colab": {
          "base_uri": "https://localhost:8080/"
        },
        "outputId": "660803c4-9d9f-4ce7-b185-8cbdf9690553"
      },
      "source": [
        "# Set the object attribute radius\n",
        "\n",
        "RedCircle.radius = 12\n",
        "RedCircle.radius"
      ],
      "execution_count": 13,
      "outputs": [
        {
          "output_type": "execute_result",
          "data": {
            "text/plain": [
              "12"
            ]
          },
          "metadata": {},
          "execution_count": 13
        }
      ]
    },
    {
      "cell_type": "markdown",
      "metadata": {
        "id": "dJtCLAnoULEk"
      },
      "source": [
        " We can draw the object by using the method <code>drawCircle()</code>:"
      ]
    },
    {
      "cell_type": "code",
      "metadata": {
        "id": "DGg5KepsULEk",
        "colab": {
          "base_uri": "https://localhost:8080/",
          "height": 430
        },
        "outputId": "f12c4122-19ab-483d-b964-36c6f58f165c"
      },
      "source": [
        "# Call the method drawCircle\n",
        "RedCircle.radius = 20\n",
        "RedCircle.drawCircle()"
      ],
      "execution_count": 12,
      "outputs": [
        {
          "output_type": "display_data",
          "data": {
            "text/plain": [
              "<Figure size 640x480 with 1 Axes>"
            ],
            "image/png": "[encoded data removed]"
          },
          "metadata": {}
        }
      ]
    },
    {
      "cell_type": "markdown",
      "metadata": {
        "id": "idYtPIV8ULEm"
      },
      "source": [
        "We can increase the radius of the circle by applying the method <code>add_radius()</code>. Let increases the radius by 2 and then by 5:  "
      ]
    },
    {
      "cell_type": "code",
      "metadata": {
        "id": "4b6KpQZVULEn",
        "colab": {
          "base_uri": "https://localhost:8080/",
          "height": 467
        },
        "outputId": "2de7a259-eb8a-490b-ddf2-cf346c0fbf15"
      },
      "source": [
        "# Use method to change the object attribute radius\n",
        "\n",
        "print('Radius of object:',RedCircle.radius)\n",
        "RedCircle.add_radius(2)\n",
        "RedCircle.drawCircle()\n",
        "RedCircle.radius"
      ],
      "execution_count": 14,
      "outputs": [
        {
          "output_type": "stream",
          "name": "stdout",
          "text": [
            "Radius of object: 12\n"
          ]
        },
        {
          "output_type": "display_data",
          "data": {
            "text/plain": [
              "<Figure size 640x480 with 1 Axes>"
            ],
            "image/png": "[encoded data removed]"
          },
          "metadata": {}
        },
        {
          "output_type": "execute_result",
          "data": {
            "text/plain": [
              "14"
            ]
          },
          "metadata": {},
          "execution_count": 14
        }
      ]
    },
    {
      "cell_type": "code",
      "metadata": {
        "id": "xM3BhN2gXPwC"
      },
      "source": [
        "RedCircle.radius"
      ],
      "execution_count": null,
      "outputs": []
    },
    {
      "cell_type": "code",
      "metadata": {
        "id": "By0yWcNYXYm4"
      },
      "source": [
        "RedCircle.add_radius(2)"
      ],
      "execution_count": null,
      "outputs": []
    },
    {
      "cell_type": "markdown",
      "metadata": {
        "id": "phGrBp5cULEr"
      },
      "source": [
        " Let’s  create a blue circle. As the default colour is blue, all we have to do is specify what the radius is:"
      ]
    },
    {
      "cell_type": "code",
      "metadata": {
        "id": "bsg1Waw_Xip6"
      },
      "source": [
        "RedCircle.drawCircle()"
      ],
      "execution_count": null,
      "outputs": []
    },
    {
      "cell_type": "code",
      "metadata": {
        "id": "W19eP1_bULEs"
      },
      "source": [
        "# Create a blue circle with a given radius\n",
        "\n",
        "BlueCircle = Circle(radius=100)"
      ],
      "execution_count": null,
      "outputs": []
    },
    {
      "cell_type": "markdown",
      "metadata": {
        "id": "kPkqhGGmULEu"
      },
      "source": [
        " As before we can access the attributes of the instance of the class by using the dot notation:"
      ]
    },
    {
      "cell_type": "code",
      "metadata": {
        "id": "bEXhV6XmULEv"
      },
      "source": [
        "# Print the object attribute radius\n",
        "\n",
        "BlueCircle.radius"
      ],
      "execution_count": null,
      "outputs": []
    },
    {
      "cell_type": "code",
      "metadata": {
        "id": "QasVKiKoULEx"
      },
      "source": [
        "# Print the object attribute color\n",
        "\n",
        "BlueCircle.color"
      ],
      "execution_count": null,
      "outputs": []
    },
    {
      "cell_type": "markdown",
      "metadata": {
        "id": "JRZ3-tf3ULEz"
      },
      "source": [
        " We can draw the object by using the method <code>drawCircle()</code>:"
      ]
    },
    {
      "cell_type": "code",
      "metadata": {
        "id": "9HatPedxULEz",
        "colab": {
          "base_uri": "https://localhost:8080/",
          "height": 265
        },
        "outputId": "8bf66e38-376a-43ce-a165-173f2870aa0a"
      },
      "source": [
        "# Call the method drawCircle\n",
        "\n",
        "BlueCircle.drawCircle()"
      ],
      "execution_count": null,
      "outputs": [
        {
          "output_type": "display_data",
          "data": {
            "text/plain": [
              "<Figure size 432x288 with 1 Axes>"
            ],
            "image/png": "[encoded data removed]"
          },
          "metadata": {
            "needs_background": "light"
          }
        }
      ]
    },
    {
      "cell_type": "markdown",
      "metadata": {
        "id": "e-cGrAQyULE1"
      },
      "source": [
        "Compare the x and y axis of the figure to the figure  for <code>RedCircle</code>; they are different."
      ]
    },
    {
      "cell_type": "markdown",
      "metadata": {
        "id": "8WIyHsBCULE2"
      },
      "source": [
        "<hr>"
      ]
    },
    {
      "cell_type": "markdown",
      "metadata": {
        "id": "Aoe9IQ6jULE2"
      },
      "source": [
        "<h2 id=\"rect\">The Rectangle Class</h2>"
      ]
    },
    {
      "cell_type": "markdown",
      "metadata": {
        "id": "2_PVxIWiULE3"
      },
      "source": [
        "Let's create a class rectangle with the attributes of height, width and color. We will only add the method to draw the rectangle object:"
      ]
    },
    {
      "cell_type": "code",
      "metadata": {
        "id": "ndQKMFKRULE3"
      },
      "source": [
        "# Create a new Rectangle class for creating a rectangle object\n",
        "\n",
        "class Rectangle(object):\n",
        "    \n",
        "    # Constructor #아.. 내가 이제 객체를 하나 초기화 해서 만들어 보겠다. \n",
        "    def __init__(self, width = 2, height = 3, color ='r'): #공식처럼 사용하면 됨\n",
        "        self.height = height \n",
        "        self.width = width\n",
        "        self.color = color\n",
        "    \n",
        "    # Method\n",
        "    def drawRectangle(self):\n",
        "        plt.gca().add_patch(plt.Rectangle((0, 0), self.width, self.height ,fc=self.color))\n",
        "        plt.axis('scaled')\n",
        "        plt.show()"
      ],
      "execution_count": 16,
      "outputs": []
    },
    {
      "cell_type": "markdown",
      "metadata": {
        "id": "EYGZ8cx9ULE5"
      },
      "source": [
        "Let’s create the object <code>SkinnyBlueRectangle</code> of type Rectangle. Its width will be 2 and height will be 3, and the color will be blue:"
      ]
    },
    {
      "cell_type": "code",
      "metadata": {
        "id": "SFvWw3tcULE6"
      },
      "source": [
        "# Create a new object rectangle\n",
        "\n",
        "SkinnyBlueRectangle = Rectangle(2, 10, 'blue')"
      ],
      "execution_count": 17,
      "outputs": []
    },
    {
      "cell_type": "markdown",
      "metadata": {
        "id": "w1bgGVdNULE9"
      },
      "source": [
        " As before we can access the attributes of the instance of the class by using the dot notation:"
      ]
    },
    {
      "cell_type": "code",
      "metadata": {
        "id": "V66wDbsYULE-",
        "colab": {
          "base_uri": "https://localhost:8080/"
        },
        "outputId": "ecedc473-6a68-4a16-984e-37418903225d"
      },
      "source": [
        "# Print the object attribute height\n",
        "\n",
        "SkinnyBlueRectangle.height "
      ],
      "execution_count": 18,
      "outputs": [
        {
          "output_type": "execute_result",
          "data": {
            "text/plain": [
              "10"
            ]
          },
          "metadata": {},
          "execution_count": 18
        }
      ]
    },
    {
      "cell_type": "code",
      "metadata": {
        "id": "IrwcV4GWULFA",
        "colab": {
          "base_uri": "https://localhost:8080/"
        },
        "outputId": "48a4a0dd-755a-4ec5-930e-7583820737b3"
      },
      "source": [
        "# Print the object attribute width\n",
        "\n",
        "SkinnyBlueRectangle.width"
      ],
      "execution_count": 19,
      "outputs": [
        {
          "output_type": "execute_result",
          "data": {
            "text/plain": [
              "2"
            ]
          },
          "metadata": {},
          "execution_count": 19
        }
      ]
    },
    {
      "cell_type": "code",
      "metadata": {
        "id": "m4vW1Gm4ULFC",
        "colab": {
          "base_uri": "https://localhost:8080/",
          "height": 35
        },
        "outputId": "5ec28423-1240-461f-f804-0b88fa5e615c"
      },
      "source": [
        "# Print the object attribute color\n",
        "\n",
        "SkinnyBlueRectangle.color"
      ],
      "execution_count": 20,
      "outputs": [
        {
          "output_type": "execute_result",
          "data": {
            "text/plain": [
              "'blue'"
            ],
            "application/vnd.google.colaboratory.intrinsic+json": {
              "type": "string"
            }
          },
          "metadata": {},
          "execution_count": 20
        }
      ]
    },
    {
      "cell_type": "markdown",
      "metadata": {
        "id": "hIyfzzzfULFD"
      },
      "source": [
        " We can draw the object:"
      ]
    },
    {
      "cell_type": "code",
      "metadata": {
        "scrolled": true,
        "id": "xCWraFZRULFE",
        "colab": {
          "base_uri": "https://localhost:8080/",
          "height": 430
        },
        "outputId": "c346e885-c675-487a-fa15-cf6e64fe6add"
      },
      "source": [
        "# Use the drawRectangle method to draw the shape\n",
        "\n",
        "SkinnyBlueRectangle.drawRectangle()"
      ],
      "execution_count": 21,
      "outputs": [
        {
          "output_type": "display_data",
          "data": {
            "text/plain": [
              "<Figure size 640x480 with 1 Axes>"
            ],
            "image/png": "[encoded data removed]"
          },
          "metadata": {}
        }
      ]
    },
    {
      "cell_type": "markdown",
      "metadata": {
        "id": "l44EbuaUULFG"
      },
      "source": [
        "Let’s create the object <code>FatYellowRectangle</code> of type Rectangle :"
      ]
    },
    {
      "cell_type": "code",
      "metadata": {
        "id": "t3KWwjwhULFG"
      },
      "source": [
        "# Create a new object rectangle\n",
        "\n",
        "FatYellowRectangle = Rectangle(20, 5, 'yellow')"
      ],
      "execution_count": 27,
      "outputs": []
    },
    {
      "cell_type": "markdown",
      "metadata": {
        "id": "h4KZJVP5ULFI"
      },
      "source": [
        " We can access the attributes of the instance of the class by using the dot notation:"
      ]
    },
    {
      "cell_type": "code",
      "metadata": {
        "id": "Hc8QCipJULFI",
        "colab": {
          "base_uri": "https://localhost:8080/"
        },
        "outputId": "1156e573-d2c9-413a-a016-7b2578db3a70"
      },
      "source": [
        "# Print the object attribute height\n",
        "\n",
        "FatYellowRectangle.height "
      ],
      "execution_count": 28,
      "outputs": [
        {
          "output_type": "execute_result",
          "data": {
            "text/plain": [
              "5"
            ]
          },
          "metadata": {},
          "execution_count": 28
        }
      ]
    },
    {
      "cell_type": "code",
      "metadata": {
        "id": "inUaBOHmULFL",
        "colab": {
          "base_uri": "https://localhost:8080/"
        },
        "outputId": "811789a2-4af8-4c17-9804-89648a47fd5e"
      },
      "source": [
        "# Print the object attribute width\n",
        "\n",
        "FatYellowRectangle.width"
      ],
      "execution_count": 29,
      "outputs": [
        {
          "output_type": "execute_result",
          "data": {
            "text/plain": [
              "20"
            ]
          },
          "metadata": {},
          "execution_count": 29
        }
      ]
    },
    {
      "cell_type": "code",
      "metadata": {
        "id": "dh1FCcwMULFN",
        "colab": {
          "base_uri": "https://localhost:8080/",
          "height": 35
        },
        "outputId": "e93e68c0-137d-4179-bc48-abcc5bd306fe"
      },
      "source": [
        "# Print the object attribute color\n",
        "\n",
        "FatYellowRectangle.color"
      ],
      "execution_count": 25,
      "outputs": [
        {
          "output_type": "execute_result",
          "data": {
            "text/plain": [
              "'yellow'"
            ],
            "application/vnd.google.colaboratory.intrinsic+json": {
              "type": "string"
            }
          },
          "metadata": {},
          "execution_count": 25
        }
      ]
    },
    {
      "cell_type": "markdown",
      "metadata": {
        "id": "IgWFJY-RULFP"
      },
      "source": [
        " We can draw the object:"
      ]
    },
    {
      "cell_type": "code",
      "metadata": {
        "id": "ZLjbYUnNULFQ",
        "colab": {
          "base_uri": "https://localhost:8080/",
          "height": 184
        },
        "outputId": "874bd995-73fb-48b5-9dfa-29d2e4d3c64b"
      },
      "source": [
        "# Use the drawRectangle method to draw the shape\n",
        "\n",
        "FatYellowRectangle.drawRectangle()"
      ],
      "execution_count": 31,
      "outputs": [
        {
          "output_type": "display_data",
          "data": {
            "text/plain": [
              "<Figure size 640x480 with 1 Axes>"
            ],
            "image/png": "[encoded data removed]"
          },
          "metadata": {}
        }
      ]
    }
  ]
}